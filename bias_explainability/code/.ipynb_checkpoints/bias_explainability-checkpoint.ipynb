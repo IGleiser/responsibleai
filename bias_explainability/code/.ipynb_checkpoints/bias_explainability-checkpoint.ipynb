{
 "cells": [
  {
   "cell_type": "code",
   "execution_count": 2,
   "metadata": {},
   "outputs": [],
   "source": [
    "import os \n",
    "import boto3 \n",
    "from sagemaker import Session  \n",
    "from sagemaker import get_execution_role \n",
    "\n",
    "#Import libraries to handle data prep and feature engineering\n",
    "import pandas as pd \n",
    "import numpy as np \n",
    "from sklearn.model_selection import train_test_split \n",
    "from sklearn import preprocessing\n",
    "\n",
    "#import libariries to train model in Sagemaker\n",
    "from sagemaker.s3 import S3Uploader \n",
    "from sagemaker.inputs import TrainingInput \n",
    "from sagemaker.image_uris import retrieve \n",
    "from sagemaker.estimator import Estimator \n",
    "\n",
    "#import libraries for bias and explainability\n",
    "from sagemaker import clarify "
   ]
  },
  {
   "cell_type": "code",
   "execution_count": 4,
   "metadata": {},
   "outputs": [
    {
     "name": "stdout",
     "output_type": "stream",
     "text": [
      "responsibleai\n"
     ]
    }
   ],
   "source": [
    "# Get the session, region and role\n",
    "session = Session() \n",
    "region = session.boto_region_name \n",
    "role = get_execution_role() \n",
    "s3_client = boto3.client(\"s3\") \n",
    "\n",
    "# Set up prefix for data and outputs\n",
    "bucket = \"responsibleai\"\n",
    "data_prefix = \"data\"\n",
    "bias_prefix = \"bias_explain\" \n",
    "input_data_path = \"s3://{}/{}\".format(bucket, data_prefix)\n",
    "explainability_output_path = \"s3://{}/{}/clarify-explainability\".format(bucket, bias_prefix) \n",
    "bias_report_output_path = \"s3://{}/{}/clarify-bias\".format(bucket, bias_prefix) "
   ]
  },
  {
   "cell_type": "markdown",
   "metadata": {},
   "source": [
    "### Data Preparation & Feature Engineering"
   ]
  },
  {
   "cell_type": "code",
   "execution_count": 6,
   "metadata": {},
   "outputs": [
    {
     "data": {
      "text/html": [
       "<div>\n",
       "<style scoped>\n",
       "    .dataframe tbody tr th:only-of-type {\n",
       "        vertical-align: middle;\n",
       "    }\n",
       "\n",
       "    .dataframe tbody tr th {\n",
       "        vertical-align: top;\n",
       "    }\n",
       "\n",
       "    .dataframe thead th {\n",
       "        text-align: right;\n",
       "    }\n",
       "</style>\n",
       "<table border=\"1\" class=\"dataframe\">\n",
       "  <thead>\n",
       "    <tr style=\"text-align: right;\">\n",
       "      <th></th>\n",
       "      <th>RowNumber</th>\n",
       "      <th>CustomerId</th>\n",
       "      <th>Surname</th>\n",
       "      <th>CreditScore</th>\n",
       "      <th>Geography</th>\n",
       "      <th>Gender</th>\n",
       "      <th>Age</th>\n",
       "      <th>Tenure</th>\n",
       "      <th>Balance</th>\n",
       "      <th>NumOfProducts</th>\n",
       "      <th>HasCrCard</th>\n",
       "      <th>IsActiveMember</th>\n",
       "      <th>EstimatedSalary</th>\n",
       "      <th>Exited</th>\n",
       "    </tr>\n",
       "  </thead>\n",
       "  <tbody>\n",
       "    <tr>\n",
       "      <th>0</th>\n",
       "      <td>1</td>\n",
       "      <td>15634602</td>\n",
       "      <td>Hargrave</td>\n",
       "      <td>619</td>\n",
       "      <td>France</td>\n",
       "      <td>Female</td>\n",
       "      <td>42</td>\n",
       "      <td>2</td>\n",
       "      <td>0.00</td>\n",
       "      <td>1</td>\n",
       "      <td>1</td>\n",
       "      <td>1</td>\n",
       "      <td>101348.88</td>\n",
       "      <td>1</td>\n",
       "    </tr>\n",
       "    <tr>\n",
       "      <th>1</th>\n",
       "      <td>2</td>\n",
       "      <td>15647311</td>\n",
       "      <td>Hill</td>\n",
       "      <td>608</td>\n",
       "      <td>Spain</td>\n",
       "      <td>Female</td>\n",
       "      <td>41</td>\n",
       "      <td>1</td>\n",
       "      <td>83807.86</td>\n",
       "      <td>1</td>\n",
       "      <td>0</td>\n",
       "      <td>1</td>\n",
       "      <td>112542.58</td>\n",
       "      <td>0</td>\n",
       "    </tr>\n",
       "    <tr>\n",
       "      <th>2</th>\n",
       "      <td>3</td>\n",
       "      <td>15619304</td>\n",
       "      <td>Onio</td>\n",
       "      <td>502</td>\n",
       "      <td>France</td>\n",
       "      <td>Female</td>\n",
       "      <td>42</td>\n",
       "      <td>8</td>\n",
       "      <td>159660.80</td>\n",
       "      <td>3</td>\n",
       "      <td>1</td>\n",
       "      <td>0</td>\n",
       "      <td>113931.57</td>\n",
       "      <td>1</td>\n",
       "    </tr>\n",
       "    <tr>\n",
       "      <th>3</th>\n",
       "      <td>4</td>\n",
       "      <td>15701354</td>\n",
       "      <td>Boni</td>\n",
       "      <td>699</td>\n",
       "      <td>France</td>\n",
       "      <td>Female</td>\n",
       "      <td>39</td>\n",
       "      <td>1</td>\n",
       "      <td>0.00</td>\n",
       "      <td>2</td>\n",
       "      <td>0</td>\n",
       "      <td>0</td>\n",
       "      <td>93826.63</td>\n",
       "      <td>0</td>\n",
       "    </tr>\n",
       "    <tr>\n",
       "      <th>4</th>\n",
       "      <td>5</td>\n",
       "      <td>15737888</td>\n",
       "      <td>Mitchell</td>\n",
       "      <td>850</td>\n",
       "      <td>Spain</td>\n",
       "      <td>Female</td>\n",
       "      <td>43</td>\n",
       "      <td>2</td>\n",
       "      <td>125510.82</td>\n",
       "      <td>1</td>\n",
       "      <td>1</td>\n",
       "      <td>1</td>\n",
       "      <td>79084.10</td>\n",
       "      <td>0</td>\n",
       "    </tr>\n",
       "  </tbody>\n",
       "</table>\n",
       "</div>"
      ],
      "text/plain": [
       "   RowNumber  CustomerId   Surname  CreditScore Geography  Gender  Age  \\\n",
       "0          1    15634602  Hargrave          619    France  Female   42   \n",
       "1          2    15647311      Hill          608     Spain  Female   41   \n",
       "2          3    15619304      Onio          502    France  Female   42   \n",
       "3          4    15701354      Boni          699    France  Female   39   \n",
       "4          5    15737888  Mitchell          850     Spain  Female   43   \n",
       "\n",
       "   Tenure    Balance  NumOfProducts  HasCrCard  IsActiveMember  \\\n",
       "0       2       0.00              1          1               1   \n",
       "1       1   83807.86              1          0               1   \n",
       "2       8  159660.80              3          1               0   \n",
       "3       1       0.00              2          0               0   \n",
       "4       2  125510.82              1          1               1   \n",
       "\n",
       "   EstimatedSalary  Exited  \n",
       "0        101348.88       1  \n",
       "1        112542.58       0  \n",
       "2        113931.57       1  \n",
       "3         93826.63       0  \n",
       "4         79084.10       0  "
      ]
     },
     "execution_count": 6,
     "metadata": {},
     "output_type": "execute_result"
    }
   ],
   "source": [
    "# Load Data set\n",
    "training_data = pd.read_csv(\"../data/churn.csv\").dropna() \n",
    "training_data.head() "
   ]
  },
  {
   "cell_type": "code",
   "execution_count": null,
   "metadata": {},
   "outputs": [],
   "source": [
    "def number_encode_features(df): \n",
    "    result = df.copy() \n",
    "    encoders = {} \n",
    "\n",
    "    for column in result.columns: \n",
    "        if result.dtypes[column] == np.object: \n",
    "            encoders[column] = preprocessing.LabelEncoder() \n",
    "            result[column] = encoders[column].fit_transform(result[column].fillna(\"None\")) \n",
    "    return result, encoders"
   ]
  },
  {
   "cell_type": "code",
   "execution_count": null,
   "metadata": {},
   "outputs": [],
   "source": [
    "churn_train, churn_test = train_test_split (training_data, test_size=0.2)\n",
    "\n",
    "churn_train = pd.concat([churn_train[\"Exited\"], churn_train.drop([\"Exited\"], axis=1)], axis=1)\n",
    "churn_train, _ = number_encode_features(churn_train)\n",
    "churn_train.to_csv(\"../data/train_churn.csv\", index=False, header=False)\n",
    "\n",
    "churn_test, _ = number_encode_features(churn_test)\n",
    "churn_features = churn_test.drop([\"Exited\"], axis=1)\n",
    "churn_target = churn_test[\"Exited\"]\n",
    "churn_features.to_csv(\"../data/test_churn.csv\", index=False, header=False)\n",
    "\n",
    "train_uri = S3Uploader.upload(\"../data/train_churn.csv\", \"s3://{}/{}\".format(bucket, prefix)) \n",
    "train_input = TrainingInput(train_uri, content_type=\"csv\") \n",
    "test_uri = S3Uploader.upload(\"../data/test_churn.csv\", \"s3://{}/{}\".format(bucket, prefix)) "
   ]
  },
  {
   "cell_type": "markdown",
   "metadata": {},
   "source": [
    "### Model Training"
   ]
  },
  {
   "cell_type": "code",
   "execution_count": null,
   "metadata": {},
   "outputs": [],
   "source": [
    "container = retrieve(\"xgboost\", region, version=\"1.2-1\") \n",
    "\n",
    "xgb = Estimator(container,\n",
    "                role, \n",
    "                instance_count=1,\n",
    "                instance_type=\"ml.m5.xlarge\", \n",
    "                disable_profiler=True,\n",
    "                sagemaker_session=session,) \n",
    "\n",
    "xgb.set_hyperparameters(max_depth=5, \n",
    "                        eta=0.2,\n",
    "                        gamma=4,\n",
    "                        min_child_weight=6,\n",
    "                        subsample=0.8,\n",
    "                        objective=\"binary:logistic\",\n",
    "                        num_round=800,) \n",
    "\n",
    "xgb.fit({\"train\": train_input}, logs=False) "
   ]
  },
  {
   "cell_type": "code",
   "execution_count": null,
   "metadata": {},
   "outputs": [],
   "source": [
    "model_name = \"churn-clarify-model\" \n",
    "model = xgb.create_model(name=model_name) \n",
    "container_def = model.prepare_container_def() \n",
    "session.create_model(model_name, role, container_def) "
   ]
  },
  {
   "cell_type": "markdown",
   "metadata": {},
   "source": [
    "### Data Bias"
   ]
  },
  {
   "cell_type": "code",
   "execution_count": null,
   "metadata": {},
   "outputs": [],
   "source": [
    "clarify_processor = clarify.SageMakerClarifyProcessor( \n",
    "                        role=role, \n",
    "                        instance_count=1, \n",
    "                        instance_type=\"ml.m5.xlarge\", \n",
    "                        sagemaker_session=session) "
   ]
  },
  {
   "cell_type": "code",
   "execution_count": null,
   "metadata": {},
   "outputs": [],
   "source": [
    "bias_data_config = clarify.DataConfig( \n",
    "    s3_data_input_path=train_uri, \n",
    "    s3_output_path=bias_report_output_path, \n",
    "    label=\"Exited\", \n",
    "    headers=churn_train.columns.to_list(), \n",
    "    dataset_type=\"text/csv\") \n",
    "\n",
    "model_config = clarify.ModelConfig( \n",
    "    model_name=model_name, instance_type=\"ml.m5.xlarge\", \n",
    "    instance_count=1,accept_type=\"text/csv\", \n",
    "    content_type=\"text/csv\",) \n",
    "\n",
    "predictions_config = clarify.ModelPredictedLabelConfig(probability_threshold=0.8)\n",
    "\n",
    "bias_config = clarify.BiasConfig( \n",
    "    label_values_or_threshold=[1], \n",
    "    facet_name=\"Gender\", \n",
    "    facet_values_or_threshold=[0]) \n"
   ]
  },
  {
   "cell_type": "code",
   "execution_count": null,
   "metadata": {},
   "outputs": [],
   "source": [
    "clarify_processor.run_bias( \n",
    "    data_config=bias_data_config, \n",
    "    bias_config=bias_config, \n",
    "    model_config=model_config, \n",
    "    model_predicted_label_config=predictions_config, \n",
    "    pre_training_methods=\"all\", \n",
    "    post_training_methods=\"all\") "
   ]
  },
  {
   "cell_type": "markdown",
   "metadata": {},
   "source": [
    "### Model Explainability"
   ]
  },
  {
   "cell_type": "code",
   "execution_count": null,
   "metadata": {},
   "outputs": [],
   "source": [
    "shap_config = clarify.SHAPConfig( \n",
    "    baseline=[churn_features.iloc[0].values.tolist()], \n",
    "    num_samples=15, \n",
    "    agg_method=\"mean_abs\", \n",
    "    save_local_shap_values=True,) \n",
    "\n",
    "explainability_data_config = clarify.DataConfig( \n",
    "    s3_data_input_path=train_uri, \n",
    "    s3_output_path=explainability_output_path, \n",
    "    label=\"Exited\", \n",
    "    headers=churn_train.columns.to_list(), \n",
    "    dataset_type=\"text/csv\") "
   ]
  },
  {
   "cell_type": "code",
   "execution_count": null,
   "metadata": {},
   "outputs": [],
   "source": [
    "clarify_processor.run_explainability( \n",
    "    data_config=explainability_data_config, \n",
    "    model_config=model_config, \n",
    "    explainability_config=shap_config,) "
   ]
  }
 ],
 "metadata": {
  "kernelspec": {
   "display_name": "Python 3 (Data Science)",
   "language": "python",
   "name": "python3__SAGEMAKER_INTERNAL__arn:aws:sagemaker:us-east-1:081325390199:image/datascience-1.0"
  },
  "language_info": {
   "codemirror_mode": {
    "name": "ipython",
    "version": 3
   },
   "file_extension": ".py",
   "mimetype": "text/x-python",
   "name": "python",
   "nbconvert_exporter": "python",
   "pygments_lexer": "ipython3",
   "version": "3.7.10"
  }
 },
 "nbformat": 4,
 "nbformat_minor": 4
}
