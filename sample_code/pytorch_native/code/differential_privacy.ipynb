{
 "cells": [
  {
   "cell_type": "code",
   "execution_count": 2,
   "metadata": {},
   "outputs": [],
   "source": [
    "import numpy as np\n",
    "import pandas as pd\n",
    "import matplotlib.pyplot as plt\n",
    "\n",
    "import torch\n",
    "import torch.nn as nn\n",
    "import torch.optim as optim\n",
    "from torch.utils.data import Dataset, DataLoader, random_split\n",
    "\n",
    "from sklearn import preprocessing\n",
    "from sklearn.preprocessing import StandardScaler \n",
    "from sklearn.metrics import accuracy_score\n",
    "\n",
    "#library for privacy engine\n",
    "from opacus import PrivacyEngine\n",
    "from codecarbon import EmissionsTracker\n"
   ]
  },
  {
   "cell_type": "code",
   "execution_count": 3,
   "metadata": {},
   "outputs": [],
   "source": [
    "batch_size = 50"
   ]
  },
  {
   "cell_type": "code",
   "execution_count": 4,
   "metadata": {},
   "outputs": [],
   "source": [
    "class ChurnDataset(Dataset):\n",
    " \n",
    "    def __init__(self, df):\n",
    "  \n",
    "        df = pd.read_csv(csv_file)\n",
    "        \n",
    "        df = df.drop([\"Surname\", \"CustomerId\", \"RowNumber\"], axis=1)\n",
    "\n",
    "        # Grouping variable names\n",
    "        self.categorical = [\"Geography\", \"Gender\"]\n",
    "        self.target = \"Exited\"\n",
    "\n",
    "        # One-hot encoding of categorical variables\n",
    "        self.churn_frame = pd.get_dummies(df, prefix=self.categorical)\n",
    "\n",
    "        # Save target and predictors\n",
    "        self.X = self.churn_frame.drop(self.target, axis=1)\n",
    "        self.y = self.churn_frame[\"Exited\"]\n",
    "        \n",
    "        \n",
    "        scaler = StandardScaler()\n",
    "        X_array  = scaler.fit_transform(self.X)\n",
    "        self.X = pd.DataFrame(X_array)\n",
    "\n",
    "    def __len__(self):\n",
    "        return len(self.churn_frame)\n",
    "\n",
    "    def __getitem__(self, idx):\n",
    "        # Convert idx from tensor to list due to pandas bug (that arises when using pytorch's random_split)\n",
    "        if isinstance(idx, torch.Tensor):\n",
    "            idx = idx.tolist()\n",
    "\n",
    "        return [self.X.iloc[idx].values, self.y[idx]]"
   ]
  },
  {
   "cell_type": "code",
   "execution_count": 5,
   "metadata": {},
   "outputs": [],
   "source": [
    "def get_CHURN_model():\n",
    "    model = nn.Sequential(nn.Linear(13, 64), \n",
    "                    nn.ReLU(), \n",
    "                    nn.Linear(64, 64), \n",
    "                    nn.ReLU(), \n",
    "                    nn.Linear(64, 1)) \n",
    "    return model"
   ]
  },
  {
   "cell_type": "code",
   "execution_count": 6,
   "metadata": {},
   "outputs": [],
   "source": [
    "def get_dataloader(csv_file, batch_size):\n",
    "     # Load dataset\n",
    "    dataset = ChurnDataset(csv_file)\n",
    "\n",
    "    # Split into training and test\n",
    "    train_size = int(0.8 * len(dataset))\n",
    "    test_size = len(dataset) - train_size\n",
    "    trainset, testset = random_split(dataset, [train_size, test_size])\n",
    "    \n",
    "    trainloader = DataLoader(trainset, batch_size=batch_size, shuffle=True)\n",
    "    \n",
    "    testloader = DataLoader(testset, batch_size=batch_size, shuffle=True)\n",
    "    \n",
    "    return trainloader, testloader, trainset, testset"
   ]
  },
  {
   "cell_type": "code",
   "execution_count": 7,
   "metadata": {},
   "outputs": [],
   "source": [
    "def train(trainloader, net, optimizer, n_epochs=100):\n",
    "     \n",
    "    device = \"cpu\"\n",
    "\n",
    "    # Define the model\n",
    "    #net = get_CHURN_model()\n",
    "    net = net.to(device)\n",
    "    \n",
    "    #criterion = nn.CrossEntropyLoss() \n",
    "    criterion = nn.BCEWithLogitsLoss()\n",
    "\n",
    "\n",
    "    # Train the net\n",
    "    loss_per_iter = []\n",
    "    loss_per_batch = []\n",
    "    for epoch in range(n_epochs):\n",
    "\n",
    "        running_loss = 0.0\n",
    "        for inputs, labels in trainloader:\n",
    "            inputs = inputs.to(device)\n",
    "            labels = labels.to(device)\n",
    "\n",
    "            # Zero the parameter gradients\n",
    "            optimizer.zero_grad()\n",
    "\n",
    "            # Forward + backward + optimize\n",
    "            outputs = net(inputs.float())\n",
    "            loss = criterion(outputs, labels.float().unsqueeze(1))\n",
    "            loss.backward()\n",
    "            optimizer.step()\n",
    "\n",
    "            # Save loss to plot\n",
    "            running_loss += loss.item()\n",
    "            loss_per_iter.append(loss.item())\n",
    "\n",
    "        \n",
    "        print(\"Epoch {} - Training loss: {}\".format(epoch, running_loss/len(trainloader))) \n",
    "        \n",
    "        running_loss = 0.0\n",
    "        \n",
    "    return net"
   ]
  },
  {
   "cell_type": "code",
   "execution_count": 8,
   "metadata": {},
   "outputs": [],
   "source": [
    "csv_file = \"../data/churn.csv\"\n",
    "\n",
    "trainloader, testloader, train_ds, test_ds = get_dataloader(csv_file, batch_size)"
   ]
  },
  {
   "cell_type": "code",
   "execution_count": 9,
   "metadata": {},
   "outputs": [
    {
     "name": "stdout",
     "output_type": "stream",
     "text": [
      "[2022-02-26 20:51:31.060 pytorch-1-8-gpu-py3-ml-g4dn-xlarge-60bd0d07a83be181dcf7335baae2:1016 INFO utils.py:27] RULE_JOB_STOP_SIGNAL_FILENAME: None\n",
      "[2022-02-26 20:51:31.092 pytorch-1-8-gpu-py3-ml-g4dn-xlarge-60bd0d07a83be181dcf7335baae2:1016 INFO profiler_config_parser.py:102] Unable to find config at /opt/ml/input/config/profilerconfig.json. Profiler is disabled.\n",
      "Epoch 0 - Training loss: 0.42467553783208134\n",
      "Epoch 1 - Training loss: 0.3497159331105649\n",
      "Epoch 2 - Training loss: 0.3412178034894168\n",
      "Epoch 3 - Training loss: 0.33582739625126123\n",
      "Epoch 4 - Training loss: 0.3319076860323548\n",
      "Epoch 5 - Training loss: 0.32809979608282447\n",
      "Epoch 6 - Training loss: 0.32614620206877587\n",
      "Epoch 7 - Training loss: 0.32474484089761974\n",
      "Epoch 8 - Training loss: 0.3246407790109515\n",
      "Epoch 9 - Training loss: 0.32043658206239345\n",
      "Epoch 10 - Training loss: 0.3213622902520001\n",
      "Epoch 11 - Training loss: 0.31684049908071754\n",
      "Epoch 12 - Training loss: 0.31444161105901003\n",
      "Epoch 13 - Training loss: 0.3131559851579368\n",
      "Epoch 14 - Training loss: 0.31217331197112796\n",
      "Epoch 15 - Training loss: 0.30882545514032245\n",
      "Epoch 16 - Training loss: 0.30954829906113446\n",
      "Epoch 17 - Training loss: 0.30826326040551066\n",
      "Epoch 18 - Training loss: 0.3048952269367874\n",
      "Epoch 19 - Training loss: 0.304233849234879\n",
      "Epoch 20 - Training loss: 0.3026920886710286\n",
      "Epoch 21 - Training loss: 0.30065364982001486\n",
      "Epoch 22 - Training loss: 0.3013262551277876\n",
      "Epoch 23 - Training loss: 0.29760384154506025\n",
      "Epoch 24 - Training loss: 0.29615655206143854\n",
      "Epoch 25 - Training loss: 0.29396587535738944\n",
      "Epoch 26 - Training loss: 0.2925460021942854\n",
      "Epoch 27 - Training loss: 0.29183924896642566\n",
      "Epoch 28 - Training loss: 0.2884169036988169\n",
      "Epoch 29 - Training loss: 0.2872657531872392\n",
      "Epoch 30 - Training loss: 0.2852865865454078\n",
      "Epoch 31 - Training loss: 0.28397189592942595\n",
      "Epoch 32 - Training loss: 0.28019698774442076\n",
      "Epoch 33 - Training loss: 0.27978632478043436\n",
      "Epoch 34 - Training loss: 0.2766299793496728\n",
      "Epoch 35 - Training loss: 0.2746687124948949\n",
      "Epoch 36 - Training loss: 0.274562326585874\n",
      "Epoch 37 - Training loss: 0.26963277701288463\n",
      "Epoch 38 - Training loss: 0.2702262505888939\n",
      "Epoch 39 - Training loss: 0.2674630844034255\n",
      "Epoch 40 - Training loss: 0.2667894789483398\n",
      "Epoch 41 - Training loss: 0.26750172511674464\n",
      "Epoch 42 - Training loss: 0.2634719214402139\n",
      "Epoch 43 - Training loss: 0.2608751536346972\n",
      "Epoch 44 - Training loss: 0.2582961231935769\n",
      "Epoch 45 - Training loss: 0.2568175133317709\n",
      "Epoch 46 - Training loss: 0.2560633308254182\n",
      "Epoch 47 - Training loss: 0.25387201919220387\n",
      "Epoch 48 - Training loss: 0.2514852653257549\n",
      "Epoch 49 - Training loss: 0.24919960503466426\n"
     ]
    }
   ],
   "source": [
    "net = get_CHURN_model()\n",
    "optimizer = optim.Adam(net.parameters(), weight_decay=0.0001, lr=0.003)\n",
    "model = train(trainloader, net, optimizer, 50)"
   ]
  },
  {
   "cell_type": "code",
   "execution_count": 10,
   "metadata": {},
   "outputs": [],
   "source": [
    "max_per_sample_grad_norm = 1.5\n",
    "sample_rate = batch_size/len(train_ds)\n",
    "noise_multiplier = 0.8"
   ]
  },
  {
   "cell_type": "code",
   "execution_count": 11,
   "metadata": {},
   "outputs": [
    {
     "name": "stderr",
     "output_type": "stream",
     "text": [
      "/opt/conda/lib/python3.6/site-packages/opacus/privacy_engine.py:760: UserWarning: A ``sample_rate`` has been provided.Thus, the provided ``batch_size``and ``sample_size`` will be ignored.\n",
      "  \"A ``sample_rate`` has been provided.\"\n",
      "/opt/conda/lib/python3.6/site-packages/opacus/privacy_engine.py:237: UserWarning: Secure RNG turned off. This is perfectly fine for experimentation as it allows for much faster training performance, but remember to turn it on and retrain one last time before production with ``secure_rng`` turned on.\n",
      "  \"Secure RNG turned off. This is perfectly fine for experimentation as it allows \"\n",
      "/opt/conda/lib/python3.6/site-packages/torch/nn/modules/module.py:796: UserWarning: Using a non-full backward hook when the forward contains multiple autograd Nodes is deprecated and will be removed in future versions. This hook will be missing some grad_input. Please use register_full_backward_hook to get the documented behavior.\n",
      "  warnings.warn(\"Using a non-full backward hook when the forward contains multiple autograd Nodes \"\n"
     ]
    },
    {
     "name": "stdout",
     "output_type": "stream",
     "text": [
      "Epoch 0 - Training loss: 0.5739273639395833\n",
      "Epoch 1 - Training loss: 0.5450084384530782\n",
      "Epoch 2 - Training loss: 0.5399808972142637\n",
      "Epoch 3 - Training loss: 0.5380573300644755\n",
      "Epoch 4 - Training loss: 0.5396806959062814\n",
      "Epoch 5 - Training loss: 0.5379347333684563\n",
      "Epoch 6 - Training loss: 0.5379639642313123\n",
      "Epoch 7 - Training loss: 0.5341536544263363\n",
      "Epoch 8 - Training loss: 0.5255999676883221\n",
      "Epoch 9 - Training loss: 0.527379980077967\n",
      "Epoch 10 - Training loss: 0.5191250344272703\n",
      "Epoch 11 - Training loss: 0.5165148722939193\n",
      "Epoch 12 - Training loss: 0.5069711779244244\n",
      "Epoch 13 - Training loss: 0.5001096079126001\n",
      "Epoch 14 - Training loss: 0.5008684289641678\n",
      "Epoch 15 - Training loss: 0.4996961490251124\n",
      "Epoch 16 - Training loss: 0.49414023593999445\n",
      "Epoch 17 - Training loss: 0.4997370705939829\n",
      "Epoch 18 - Training loss: 0.5062210355419665\n",
      "Epoch 19 - Training loss: 0.5157987097278237\n",
      "Epoch 20 - Training loss: 0.5177786984480918\n",
      "Epoch 21 - Training loss: 0.5228384896647185\n",
      "Epoch 22 - Training loss: 0.5220020848326385\n",
      "Epoch 23 - Training loss: 0.5266515244729817\n",
      "Epoch 24 - Training loss: 0.5171955246478319\n",
      "Epoch 25 - Training loss: 0.5184680629987269\n",
      "Epoch 26 - Training loss: 0.5142837151885032\n",
      "Epoch 27 - Training loss: 0.5262248961254954\n",
      "Epoch 28 - Training loss: 0.5282597417244688\n",
      "Epoch 29 - Training loss: 0.5250876088626683\n",
      "Epoch 30 - Training loss: 0.5199503113050014\n",
      "Epoch 31 - Training loss: 0.5246013172902166\n",
      "Epoch 32 - Training loss: 0.5226997941732406\n",
      "Epoch 33 - Training loss: 0.5192192185670137\n",
      "Epoch 34 - Training loss: 0.5192204292165116\n",
      "Epoch 35 - Training loss: 0.5268803596496582\n",
      "Epoch 36 - Training loss: 0.516181671526283\n",
      "Epoch 37 - Training loss: 0.5162922478630207\n",
      "Epoch 38 - Training loss: 0.5269118731841445\n",
      "Epoch 39 - Training loss: 0.5253719016909599\n",
      "Epoch 40 - Training loss: 0.5307155544869602\n",
      "Epoch 41 - Training loss: 0.531667483272031\n",
      "Epoch 42 - Training loss: 0.5294012497644871\n",
      "Epoch 43 - Training loss: 0.5296641108114273\n",
      "Epoch 44 - Training loss: 0.5223643764387816\n",
      "Epoch 45 - Training loss: 0.528047192748636\n",
      "Epoch 46 - Training loss: 0.5401560562255326\n",
      "Epoch 47 - Training loss: 0.537497458839789\n",
      "Epoch 48 - Training loss: 0.5318105593323708\n",
      "Epoch 49 - Training loss: 0.5288757191970944\n"
     ]
    }
   ],
   "source": [
    "net = get_CHURN_model()\n",
    "\n",
    "optimizer = optim.Adam(net.parameters(), weight_decay=0.0001, lr=0.003)\n",
    "\n",
    "privacy_engine = PrivacyEngine(\n",
    "    net,\n",
    "    max_grad_norm=max_per_sample_grad_norm,\n",
    "    noise_multiplier = noise_multiplier,\n",
    "    sample_rate = sample_rate,\n",
    ")\n",
    "\n",
    "privacy_engine.attach(optimizer)\n",
    "\n",
    "model = train(trainloader, net, optimizer, batch_size)"
   ]
  },
  {
   "cell_type": "code",
   "execution_count": 12,
   "metadata": {},
   "outputs": [
    {
     "name": "stdout",
     "output_type": "stream",
     "text": [
      " ε = 6.39, δ = 1e-06\n"
     ]
    }
   ],
   "source": [
    "epsilon, best_alpha = privacy_engine.get_privacy_spent()\n",
    "print (f\" ε = {epsilon:.2f}, δ = {privacy_engine.target_delta}\")"
   ]
  },
  {
   "cell_type": "code",
   "execution_count": null,
   "metadata": {},
   "outputs": [],
   "source": []
  }
 ],
 "metadata": {
  "instance_type": "ml.g4dn.xlarge",
  "kernelspec": {
   "display_name": "Python 3 (PyTorch 1.8 Python 3.6 GPU Optimized)",
   "language": "python",
   "name": "python3__SAGEMAKER_INTERNAL__arn:aws:sagemaker:us-east-1:081325390199:image/pytorch-1.8-gpu-py36"
  },
  "language_info": {
   "codemirror_mode": {
    "name": "ipython",
    "version": 3
   },
   "file_extension": ".py",
   "mimetype": "text/x-python",
   "name": "python",
   "nbconvert_exporter": "python",
   "pygments_lexer": "ipython3",
   "version": "3.6.13"
  }
 },
 "nbformat": 4,
 "nbformat_minor": 4
}
