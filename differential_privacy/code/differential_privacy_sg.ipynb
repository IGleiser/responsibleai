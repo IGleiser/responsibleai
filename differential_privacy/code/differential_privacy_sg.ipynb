{
 "cells": [
  {
   "cell_type": "code",
   "execution_count": 3,
   "metadata": {},
   "outputs": [
    {
     "name": "stdout",
     "output_type": "stream",
     "text": [
      "Collecting opacus\n",
      "  Downloading opacus-0.15.0-py3-none-any.whl (125 kB)\n",
      "     |████████████████████████████████| 125 kB 26.1 MB/s            \n",
      "\u001b[?25hRequirement already satisfied: scipy>=1.2 in /opt/conda/lib/python3.6/site-packages (from opacus) (1.5.4)\n",
      "Requirement already satisfied: numpy>=1.15 in /opt/conda/lib/python3.6/site-packages (from opacus) (1.19.1)\n",
      "Requirement already satisfied: torch>=1.3 in /opt/conda/lib/python3.6/site-packages (from opacus) (1.8.1)\n",
      "Requirement already satisfied: typing-extensions in /opt/conda/lib/python3.6/site-packages (from torch>=1.3->opacus) (3.10.0.2)\n",
      "Requirement already satisfied: dataclasses in /opt/conda/lib/python3.6/site-packages (from torch>=1.3->opacus) (0.8)\n",
      "Installing collected packages: opacus\n",
      "Successfully installed opacus-0.15.0\n",
      "\u001b[33mWARNING: Running pip as the 'root' user can result in broken permissions and conflicting behaviour with the system package manager. It is recommended to use a virtual environment instead: https://pip.pypa.io/warnings/venv\u001b[0m\n"
     ]
    }
   ],
   "source": [
    "!pip3 install opacus"
   ]
  },
  {
   "cell_type": "code",
   "execution_count": 18,
   "metadata": {},
   "outputs": [],
   "source": [
    "import os\n",
    "import sagemaker\n",
    "from sagemaker import get_execution_role\n",
    "import pandas as pd\n",
    "import numpy as np\n",
    "\n",
    "from sklearn.preprocessing import StandardScaler\n",
    "from sklearn.model_selection import train_test_split \n",
    "\n",
    "from sagemaker.pytorch import PyTorch\n",
    "\n",
    "from opacus import PrivacyEngine"
   ]
  },
  {
   "cell_type": "code",
   "execution_count": 19,
   "metadata": {},
   "outputs": [
    {
     "name": "stdout",
     "output_type": "stream",
     "text": [
      "region: us-east-1\n",
      "role: arn:aws:iam::247385444016:role/service-role/AmazonSageMaker-ExecutionRole-20210426T062919\n",
      "input_data_path: s3://responsibleai/data\n"
     ]
    }
   ],
   "source": [
    "sagemaker_session = sagemaker.Session()\n",
    "role = get_execution_role()\n",
    "region = sagemaker_session.boto_session.region_name\n",
    "\n",
    "bucket = \"responsibleai\"\n",
    "data_prefix = \"data\"\n",
    "input_data_path = \"s3://{}/{}\".format(bucket, data_prefix)\n",
    "\n",
    "print(\"region: \" + region)\n",
    "print(\"role: \" + role)\n",
    "print(\"input_data_path: \" + input_data_path)"
   ]
  },
  {
   "cell_type": "code",
   "execution_count": 22,
   "metadata": {},
   "outputs": [],
   "source": [
    "# prepare data\n",
    "df = pd.read_csv(\"../data/churn.csv\")\n",
    "df = df.drop([\"Surname\", \"CustomerId\", \"RowNumber\"], axis=1)\n",
    "\n",
    "# Grouping variable names\n",
    "categorical = [\"Geography\", \"Gender\"]\n",
    "target = \"Exited\"\n",
    "\n",
    "# One-hot encoding of categorical variables\n",
    "churn_frame = pd.get_dummies(df, prefix=categorical)\n",
    "\n",
    "# Save target and predictors\n",
    "X = churn_frame.drop(target, axis=1)\n",
    "y = churn_frame[\"Exited\"]\n",
    "\n",
    "scaler = StandardScaler()\n",
    "X_array  = scaler.fit_transform(X)\n",
    "\n",
    "X = pd.DataFrame(X_array)\n",
    "churn_train, churn_test = train_test_split (X, test_size=0.2)\n",
    "\n",
    "churn_train.to_csv(\"../data/train_churn.csv\", index=False, header=False)\n",
    "churn_test.to_csv(\"../data/test_churn.csv\", index=False, header=False)"
   ]
  },
  {
   "cell_type": "code",
   "execution_count": null,
   "metadata": {},
   "outputs": [],
   "source": [
    "train_uri = S3Uploader.upload(\"../data/train_churn_dp.csv\", \"s3://{}/{}\".format(bucket, data_prefix)) \n",
    "test_uri = S3Uploader.upload(\"../data/test_churn_dp.csv\", \"s3://{}/{}\".format(bucket, data_prefix)) "
   ]
  },
  {
   "cell_type": "code",
   "execution_count": null,
   "metadata": {},
   "outputs": [],
   "source": [
    "!pygmentize 'churn.py'"
   ]
  },
  {
   "cell_type": "code",
   "execution_count": null,
   "metadata": {},
   "outputs": [],
   "source": [
    "pytorch_estimator = PyTorch(entry_point = 'churn.py',\n",
    "                            instance_type='ml.p3.2xlarge',\n",
    "                            instance_count=1,\n",
    "                            framework_version='1.8.0',\n",
    "                            py_version='py3',\n",
    "                            hyperparameters = {'epochs': 100, \n",
    "                                               'batch-size': 64, \n",
    "                                               'learning-rate': 0.003})"
   ]
  },
  {
   "cell_type": "code",
   "execution_count": null,
   "metadata": {},
   "outputs": [],
   "source": [
    "pytorch_estimator.fit({'train': 's3://{}/{}/train_churn_dp.csv\".format(bucket, data_prefix)'})"
   ]
  }
 ],
 "metadata": {
  "instance_type": "ml.g4dn.xlarge",
  "kernelspec": {
   "display_name": "Python 3 (PyTorch 1.8 Python 3.6 GPU Optimized)",
   "language": "python",
   "name": "python3__SAGEMAKER_INTERNAL__arn:aws:sagemaker:us-east-1:081325390199:image/pytorch-1.8-gpu-py36"
  },
  "language_info": {
   "codemirror_mode": {
    "name": "ipython",
    "version": 3
   },
   "file_extension": ".py",
   "mimetype": "text/x-python",
   "name": "python",
   "nbconvert_exporter": "python",
   "pygments_lexer": "ipython3",
   "version": "3.6.13"
  }
 },
 "nbformat": 4,
 "nbformat_minor": 4
}
