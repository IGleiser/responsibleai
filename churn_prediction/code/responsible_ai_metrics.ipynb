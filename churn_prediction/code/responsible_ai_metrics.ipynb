{
 "cells": [
  {
   "cell_type": "code",
   "execution_count": 3,
   "metadata": {},
   "outputs": [
    {
     "name": "stdout",
     "output_type": "stream",
     "text": [
      "Collecting opacus\n",
      "  Downloading opacus-0.15.0-py3-none-any.whl (125 kB)\n",
      "     |████████████████████████████████| 125 kB 26.1 MB/s            \n",
      "\u001b[?25hRequirement already satisfied: scipy>=1.2 in /opt/conda/lib/python3.6/site-packages (from opacus) (1.5.4)\n",
      "Requirement already satisfied: numpy>=1.15 in /opt/conda/lib/python3.6/site-packages (from opacus) (1.19.1)\n",
      "Requirement already satisfied: torch>=1.3 in /opt/conda/lib/python3.6/site-packages (from opacus) (1.8.1)\n",
      "Requirement already satisfied: typing-extensions in /opt/conda/lib/python3.6/site-packages (from torch>=1.3->opacus) (3.10.0.2)\n",
      "Requirement already satisfied: dataclasses in /opt/conda/lib/python3.6/site-packages (from torch>=1.3->opacus) (0.8)\n",
      "Installing collected packages: opacus\n",
      "Successfully installed opacus-0.15.0\n",
      "\u001b[33mWARNING: Running pip as the 'root' user can result in broken permissions and conflicting behaviour with the system package manager. It is recommended to use a virtual environment instead: https://pip.pypa.io/warnings/venv\u001b[0m\n"
     ]
    }
   ],
   "source": [
    "!pip3 install opacus"
   ]
  },
  {
   "cell_type": "code",
   "execution_count": 10,
   "metadata": {},
   "outputs": [],
   "source": [
    "import sagemaker\n",
    "from sagemaker import get_execution_role\n",
    "from sagemaker.s3 import S3Uploader\n",
    "from sagemaker.pytorch import PyTorch\n",
    "\n",
    "import os\n",
    "import pandas as pd\n",
    "import numpy as np\n",
    "\n",
    "from sklearn.preprocessing import StandardScaler\n",
    "from sklearn.model_selection import train_test_split \n",
    "\n",
    "#library for differential privacy\n",
    "from opacus import PrivacyEngine\n",
    "\n",
    "#library for carbon emission\n",
    "from codecarbon import EmissionsTracker"
   ]
  },
  {
   "cell_type": "code",
   "execution_count": 11,
   "metadata": {},
   "outputs": [
    {
     "name": "stdout",
     "output_type": "stream",
     "text": [
      "region: us-east-1\n",
      "role: arn:aws:iam::247385444016:role/service-role/AmazonSageMaker-ExecutionRole-20210426T062919\n",
      "input_data_path: s3://responsibleai/data\n"
     ]
    }
   ],
   "source": [
    "sagemaker_session = sagemaker.Session()\n",
    "role = get_execution_role()\n",
    "region = sagemaker_session.boto_session.region_name"
   ]
  },
  {
   "cell_type": "code",
   "execution_count": null,
   "metadata": {},
   "outputs": [],
   "source": [
    "#Start Emissions Tracker\n",
    "tracker = EmissionsTracker(project_name = \"churn_prediction\",\n",
    "                           output_dir = \"../output/\",\n",
    "                           measure_power_secs = 15,\n",
    "                           save_to_file = True)"
   ]
  },
  {
   "cell_type": "code",
   "execution_count": 15,
   "metadata": {},
   "outputs": [],
   "source": [
    "pytorch_estimator = PyTorch(entry_point = 'train.py',\n",
    "                            instance_type='ml.p3.2xlarge',\n",
    "                            role = role,\n",
    "                            instance_count=1,\n",
    "                            framework_version='1.8.0',\n",
    "                            py_version='py3',\n",
    "                            hyperparameters = {'epochs': 100, \n",
    "                                               'batch-size': 64, \n",
    "                                               'learning-rate': 0.003})"
   ]
  },
  {
   "cell_type": "code",
   "execution_count": null,
   "metadata": {},
   "outputs": [
    {
     "name": "stdout",
     "output_type": "stream",
     "text": [
      "2022-02-28 18:36:06 Starting - Starting the training job...\n",
      "2022-02-28 18:36:30 Starting - Launching requested ML instancesProfilerReport-1646073366: InProgress\n",
      "......"
     ]
    }
   ],
   "source": [
    "pytorch_estimator.fit({'train': 's3://responsibleai/data/train_churn_dp.csv'})"
   ]
  },
  {
   "cell_type": "markdown",
   "metadata": {},
   "source": [
    "### Calculate Emissions"
   ]
  },
  {
   "cell_type": "code",
   "execution_count": null,
   "metadata": {},
   "outputs": [],
   "source": [
    "#stop Emissions Tracker and load file\n",
    "emissions: float = tracker.stop()\n",
    "S3Uploader.upload(\"../output/emissions.csv\", 's3://responsibleai/churn_prediction/output/emissions.csv')\n",
    "print(emissions)"
   ]
  },
  {
   "cell_type": "markdown",
   "metadata": {},
   "source": [
    "### Model Explainability"
   ]
  },
  {
   "cell_type": "code",
   "execution_count": null,
   "metadata": {},
   "outputs": [],
   "source": [
    "## Create the Model\n",
    "\n",
    "\n",
    "## set the Clarify processor\n",
    "clarify_processor = clarify.SageMakerClarifyProcessor( \n",
    "                        role=role, \n",
    "                        instance_count=1, \n",
    "                        instance_type=\"ml.m5.xlarge\", \n",
    "                        sagemaker_session=session) \n",
    "\n",
    "## point to the data files"
   ]
  },
  {
   "cell_type": "code",
   "execution_count": null,
   "metadata": {},
   "outputs": [],
   "source": [
    "#calculate explainability\n",
    "shap_config = clarify.SHAPConfig( \n",
    "    baseline=[churn_features.iloc[0].values.tolist()], \n",
    "    num_samples=15, \n",
    "    agg_method=\"mean_abs\", \n",
    "    save_local_shap_values=True,) \n",
    "\n",
    "explainability_data_config = clarify.DataConfig( \n",
    "    s3_data_input_path=train_uri, \n",
    "    s3_output_path=explainability_output_path, \n",
    "    label=\"Exited\", \n",
    "    headers=churn_train.columns.to_list(), \n",
    "    dataset_type=\"text/csv\") \n",
    "\n",
    "clarify_processor.run_explainability( \n",
    "    data_config=explainability_data_config, \n",
    "    model_config=model_config, \n",
    "    explainability_config=shap_config,) \n"
   ]
  },
  {
   "cell_type": "markdown",
   "metadata": {},
   "source": [
    "### Model Bias"
   ]
  },
  {
   "cell_type": "code",
   "execution_count": null,
   "metadata": {},
   "outputs": [],
   "source": [
    "bias_data_config = clarify.DataConfig( \n",
    "    s3_data_input_path=train_uri, \n",
    "    s3_output_path=bias_report_output_path, \n",
    "    label=\"Exited\", \n",
    "    headers=churn_train.columns.to_list(), \n",
    "    dataset_type=\"text/csv\") \n",
    "\n",
    "model_config = clarify.ModelConfig( \n",
    "    model_name=model_name, \n",
    "    instance_type=\"ml.m5.xlarge\", \n",
    "    instance_count=1,\n",
    "    accept_type=\"text/csv\", \n",
    "    content_type=\"text/csv\",) \n",
    "\n",
    "predictions_config = clarify.ModelPredictedLabelConfig(probability_threshold=0.8)\n",
    "\n",
    "bias_config = clarify.BiasConfig( \n",
    "    label_values_or_threshold=[1], \n",
    "    facet_name=\"Gender\", \n",
    "    facet_values_or_threshold=[0]) \n",
    "\n",
    "clarify_processor.run_bias( \n",
    "    data_config=bias_data_config, \n",
    "    bias_config=bias_config, \n",
    "    model_config=model_config, \n",
    "    model_predicted_label_config=predictions_config, \n",
    "    pre_training_methods=\"all\", \n",
    "    post_training_methods=\"all\") "
   ]
  }
 ],
 "metadata": {
  "kernelspec": {
   "display_name": "Python 3 (PyTorch 1.8 Python 3.6 GPU Optimized)",
   "language": "python",
   "name": "python3__SAGEMAKER_INTERNAL__arn:aws:sagemaker:us-east-1:081325390199:image/pytorch-1.8-gpu-py36"
  },
  "language_info": {
   "codemirror_mode": {
    "name": "ipython",
    "version": 3
   },
   "file_extension": ".py",
   "mimetype": "text/x-python",
   "name": "python",
   "nbconvert_exporter": "python",
   "pygments_lexer": "ipython3",
   "version": "3.6.13"
  }
 },
 "nbformat": 4,
 "nbformat_minor": 4
}
