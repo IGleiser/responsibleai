{
 "cells": [
  {
   "cell_type": "code",
   "execution_count": 3,
   "metadata": {},
   "outputs": [
    {
     "name": "stdout",
     "output_type": "stream",
     "text": [
      "Collecting opacus\n",
      "  Downloading opacus-0.15.0-py3-none-any.whl (125 kB)\n",
      "     |████████████████████████████████| 125 kB 26.1 MB/s            \n",
      "\u001b[?25hRequirement already satisfied: scipy>=1.2 in /opt/conda/lib/python3.6/site-packages (from opacus) (1.5.4)\n",
      "Requirement already satisfied: numpy>=1.15 in /opt/conda/lib/python3.6/site-packages (from opacus) (1.19.1)\n",
      "Requirement already satisfied: torch>=1.3 in /opt/conda/lib/python3.6/site-packages (from opacus) (1.8.1)\n",
      "Requirement already satisfied: typing-extensions in /opt/conda/lib/python3.6/site-packages (from torch>=1.3->opacus) (3.10.0.2)\n",
      "Requirement already satisfied: dataclasses in /opt/conda/lib/python3.6/site-packages (from torch>=1.3->opacus) (0.8)\n",
      "Installing collected packages: opacus\n",
      "Successfully installed opacus-0.15.0\n",
      "\u001b[33mWARNING: Running pip as the 'root' user can result in broken permissions and conflicting behaviour with the system package manager. It is recommended to use a virtual environment instead: https://pip.pypa.io/warnings/venv\u001b[0m\n"
     ]
    }
   ],
   "source": [
    "!pip3 install opacus"
   ]
  },
  {
   "cell_type": "code",
   "execution_count": 10,
   "metadata": {},
   "outputs": [],
   "source": [
    "import sagemaker\n",
    "from sagemaker import get_execution_role\n",
    "from sagemaker.s3 import S3Uploader\n",
    "from sagemaker.pytorch import PyTorch\n",
    "\n",
    "import os\n",
    "import pandas as pd\n",
    "import numpy as np\n",
    "\n",
    "from sklearn.preprocessing import StandardScaler\n",
    "from sklearn.model_selection import train_test_split \n",
    "\n",
    "from opacus import PrivacyEngine"
   ]
  },
  {
   "cell_type": "code",
   "execution_count": 11,
   "metadata": {},
   "outputs": [
    {
     "name": "stdout",
     "output_type": "stream",
     "text": [
      "region: us-east-1\n",
      "role: arn:aws:iam::247385444016:role/service-role/AmazonSageMaker-ExecutionRole-20210426T062919\n",
      "input_data_path: s3://responsibleai/data\n"
     ]
    }
   ],
   "source": [
    "sagemaker_session = sagemaker.Session()\n",
    "role = get_execution_role()\n",
    "region = sagemaker_session.boto_session.region_name\n",
    "\n",
    "bucket = \"responsibleai\"\n",
    "data_prefix = \"data\"\n",
    "input_data_path = \"s3://{}/{}\".format(bucket, data_prefix)\n",
    "\n",
    "print(\"region: \" + region)\n",
    "print(\"role: \" + role)\n",
    "print(\"input_data_path: \" + input_data_path)"
   ]
  },
  {
   "cell_type": "code",
   "execution_count": 12,
   "metadata": {},
   "outputs": [],
   "source": [
    "# prepare data\n",
    "df = pd.read_csv(\"../data/churn.csv\")\n",
    "\n",
    "churn_train, churn_test = train_test_split (df, test_size=0.2)\n",
    "\n",
    "churn_train.to_csv(\"../data/train_churn_dp.csv\")\n",
    "churn_test.to_csv(\"../data/test_churn_dp.csv\")"
   ]
  },
  {
   "cell_type": "code",
   "execution_count": 13,
   "metadata": {},
   "outputs": [],
   "source": [
    "train_uri = S3Uploader.upload(\"../data/train_churn_dp.csv\", \"s3://{}/{}\".format(bucket, data_prefix)) \n",
    "test_uri = S3Uploader.upload(\"../data/test_churn_dp.csv\", \"s3://{}/{}\".format(bucket, data_prefix)) "
   ]
  },
  {
   "cell_type": "code",
   "execution_count": 15,
   "metadata": {},
   "outputs": [],
   "source": [
    "pytorch_estimator = PyTorch(entry_point = 'churn.py',\n",
    "                            instance_type='ml.p3.2xlarge',\n",
    "                            role = role,\n",
    "                            instance_count=1,\n",
    "                            framework_version='1.8.0',\n",
    "                            py_version='py3',\n",
    "                            hyperparameters = {'epochs': 100, \n",
    "                                               'batch-size': 64, \n",
    "                                               'learning-rate': 0.003})"
   ]
  },
  {
   "cell_type": "code",
   "execution_count": null,
   "metadata": {},
   "outputs": [
    {
     "name": "stdout",
     "output_type": "stream",
     "text": [
      "2022-02-28 18:36:06 Starting - Starting the training job...\n",
      "2022-02-28 18:36:30 Starting - Launching requested ML instancesProfilerReport-1646073366: InProgress\n",
      "......"
     ]
    }
   ],
   "source": [
    "pytorch_estimator.fit({'train': 's3://responsibleai/data/train_churn_dp.csv'})"
   ]
  },
  {
   "cell_type": "code",
   "execution_count": null,
   "metadata": {},
   "outputs": [],
   "source": []
  }
 ],
 "metadata": {
  "instance_type": "ml.g4dn.xlarge",
  "kernelspec": {
   "display_name": "Python 3 (PyTorch 1.8 Python 3.6 GPU Optimized)",
   "language": "python",
   "name": "python3__SAGEMAKER_INTERNAL__arn:aws:sagemaker:us-east-1:081325390199:image/pytorch-1.8-gpu-py36"
  },
  "language_info": {
   "codemirror_mode": {
    "name": "ipython",
    "version": 3
   },
   "file_extension": ".py",
   "mimetype": "text/x-python",
   "name": "python",
   "nbconvert_exporter": "python",
   "pygments_lexer": "ipython3",
   "version": "3.6.13"
  }
 },
 "nbformat": 4,
 "nbformat_minor": 4
}
