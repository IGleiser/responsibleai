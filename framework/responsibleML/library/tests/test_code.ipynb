{
 "cells": [
  {
   "cell_type": "code",
   "execution_count": 87,
   "metadata": {},
   "outputs": [],
   "source": [
    "class rML:\n",
    "    \n",
    "    __modeltype__ = \"\"\n",
    "    __emissions__ = 0.0\n",
    "    __bias__ = 0.0\n",
    "    __explained__ = False\n",
    "    __epsilon__ = 0.0\n",
    "\n",
    "    def __init__(self, modeltype:str,\n",
    "                 explained:bool,\n",
    "                 emissions:float,\n",
    "                 bias:float,\n",
    "                 epsilon:float):\n",
    "\n",
    "        self.__modeltype__ = modeltype\n",
    "        self.__emissions__ = emissions\n",
    "        self.__bias__ = bias\n",
    "        self.__explained__ = explained\n",
    "        self.__epsilon__ = epsilon\n",
    "    \n",
    "    def explained(self, isexplained: bool):\n",
    "        self.__explained__ = isexplained\n",
    "\n",
    "    def emissions(self, carbon_emissions: float):\n",
    "        self.__emissions__ = carbon_emissions\n",
    "\n",
    "    def bias(self, label_bias: float):\n",
    "        self.__bias__ = label_bias\n",
    "\n",
    "    def epsilon(self, privacy_epsilon: bool):\n",
    "        self.__epsilon__ = privacy_epsilon\n",
    "\n",
    "    def model(self, modeltype: str):\n",
    "        self.__modeltype__ = modeltype\n",
    "        \n",
    "    def __calculate_emissions_index(self):\n",
    "\n",
    "        print(self.__emissions__)\n",
    "\n",
    "        if self.__emissions__ <= 500:\n",
    "            emissionIndex = 3\n",
    "        elif self.__emissions__ > 500 and self.__emissions__ <= 10000:\n",
    "            emissionIndex = 2\n",
    "        else:\n",
    "            emissionIndex = 1\n",
    "\n",
    "        return emissionIndex\n",
    "\n",
    "    def __calculate_privacy_index(self):\n",
    "        if self.__epsilon__ <= 1:\n",
    "            privacyIndex = 3\n",
    "        elif self.__epsilon__ > 1 and self.__epsilon__ <= 10:\n",
    "            privacyIndex = 2\n",
    "        else:\n",
    "            privacyIndex = 1\n",
    "\n",
    "        return privacyIndex\n",
    "\n",
    "    def __calculate_explainability_index(self):\n",
    "\n",
    "        expIndex = 1\n",
    "\n",
    "        if self.__modeltype__ == \"deeplearning\":\n",
    "            return expIndex\n",
    "\n",
    "        if self.__explained__ == True:\n",
    "            expIndex = 3\n",
    "        else:\n",
    "            expIndex = 2\n",
    "\n",
    "        return expIndex\n",
    "\n",
    "    def __calculate_bias_index(self):\n",
    "        if self.__bias__ <= 0.25 and self.__bias__ >= -0.25:\n",
    "            bindex = 3\n",
    "        elif self.__bias__ > 0.5 or self.__bias__ < -0.5:\n",
    "            bindex = 1\n",
    "        else:\n",
    "            bindex = 2\n",
    "\n",
    "        return bindex\n",
    "    \n",
    "    def rai_index(self):\n",
    "    \n",
    "        index = 0.0\n",
    "        weights = 0.2\n",
    "\n",
    "        emission_index = self.__calculate_emissions_index()\n",
    "        privacy_index = self.__calculate_privacy_index()\n",
    "        bias_index = self.__calculate_bias_index()\n",
    "        explain_index = self.__calculate_explainability_index()\n",
    "\n",
    "        print(emission_index)\n",
    "        print(privacy_index)\n",
    "        print(bias_index)\n",
    "        print(explain_index)\n",
    "\n",
    "        index = weights * (emission_index + privacy_index + bias_index + explain_index)\n",
    "\n",
    "        return index\n"
   ]
  },
  {
   "cell_type": "code",
   "execution_count": 88,
   "metadata": {},
   "outputs": [],
   "source": [
    "rML1 = rML(modeltype = \"\", explained = False, emissions = 700, bias = 0.2, epsilon = 0.8)\n",
    "\n",
    "rML1.emissions(1.0)"
   ]
  },
  {
   "cell_type": "code",
   "execution_count": 80,
   "metadata": {},
   "outputs": [
    {
     "name": "stdout",
     "output_type": "stream",
     "text": [
      "700\n",
      "2\n",
      "3\n",
      "3\n",
      "2\n"
     ]
    },
    {
     "data": {
      "text/plain": [
       "2.0"
      ]
     },
     "execution_count": 80,
     "metadata": {},
     "output_type": "execute_result"
    }
   ],
   "source": [
    "rML1.rai_index()"
   ]
  },
  {
   "cell_type": "code",
   "execution_count": null,
   "metadata": {},
   "outputs": [],
   "source": []
  },
  {
   "cell_type": "code",
   "execution_count": 33,
   "metadata": {},
   "outputs": [],
   "source": [
    "def __calculate_emissions_index():\n",
    "    if __emissions__ <= 500:\n",
    "        emissionIndex = 3\n",
    "    elif __emissions__ > 500 and __emissions__ <= 10000:\n",
    "        emissionIndex = 2\n",
    "    else:\n",
    "        emissionIndex = 1\n",
    "    \n",
    "    return emissionIndex"
   ]
  },
  {
   "cell_type": "code",
   "execution_count": null,
   "metadata": {},
   "outputs": [],
   "source": [
    "__calculate_emissions_index"
   ]
  },
  {
   "cell_type": "code",
   "execution_count": 36,
   "metadata": {},
   "outputs": [],
   "source": [
    "set_emissions(120)"
   ]
  },
  {
   "cell_type": "code",
   "execution_count": null,
   "metadata": {},
   "outputs": [],
   "source": []
  }
 ],
 "metadata": {
  "kernelspec": {
   "display_name": "Python 3",
   "language": "python",
   "name": "python3"
  },
  "language_info": {
   "codemirror_mode": {
    "name": "ipython",
    "version": 3
   },
   "file_extension": ".py",
   "mimetype": "text/x-python",
   "name": "python",
   "nbconvert_exporter": "python",
   "pygments_lexer": "ipython3",
   "version": "3.8.5"
  }
 },
 "nbformat": 4,
 "nbformat_minor": 4
}
